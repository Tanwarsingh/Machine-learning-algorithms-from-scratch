version https://git-lfs.github.com/spec/v1
oid sha256:5862f2bcaa28c23496c2cef6c8a83395c60dc432737417c992e77e3fa753f80e
size 50240
