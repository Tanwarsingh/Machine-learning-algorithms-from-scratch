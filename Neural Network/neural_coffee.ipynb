version https://git-lfs.github.com/spec/v1
oid sha256:a56694e63dabe5ed346af48bb8f24815d7f9c657bc1279ad14594cbba4f7d576
size 630953
