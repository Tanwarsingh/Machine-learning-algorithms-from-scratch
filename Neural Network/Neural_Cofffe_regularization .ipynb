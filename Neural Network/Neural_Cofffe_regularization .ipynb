version https://git-lfs.github.com/spec/v1
oid sha256:56576f2b825ea6e3d09cb8eda73a72973a615239e39a5056f6f4937c4df79b07
size 163216
